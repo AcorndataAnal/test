{
 "cells": [
  {
   "cell_type": "markdown",
   "id": "594c4195",
   "metadata": {},
   "source": [
    "## 영화 정보"
   ]
  },
  {
   "cell_type": "markdown",
   "id": "01829b98",
   "metadata": {},
   "source": [
    "\n",
    "영화 정보=pd.Dataframe(\n",
    "index=”영화코드”,\n",
    "columns=[”영화제목”,”개봉일”,”상영타입”,”장르”,”등급분류”,”제작국가”,감독”,”주연”,(“상영타입별 누적통계”,”상영타입들…”)]\n"
   ]
  },
  {
   "cell_type": "code",
   "execution_count": 133,
   "id": "7c82517e",
   "metadata": {},
   "outputs": [],
   "source": [
    "import numpy as np\n",
    "import pandas as pd\n",
    "import matplotlib.pyplot as plt\n",
    "import seaborn as sns\n",
    "\n",
    "import matplotlib.font_manager as fm\n",
    "font_name = fm.FontProperties(fname=\"C:\\Windows\\Fonts\\\\malgun.ttf\").get_name()\n",
    "plt.rc(\"font\", family=font_name)\n",
    "\n",
    "import matplotlib as mlp\n",
    "mlp.rcParams[\"axes.unicode_minus\"] = False"
   ]
  },
  {
   "cell_type": "code",
   "execution_count": 134,
   "id": "c836427b",
   "metadata": {},
   "outputs": [],
   "source": [
    "from bs4 import BeautifulSoup\n",
    "import requests as req"
   ]
  },
  {
   "cell_type": "code",
   "execution_count": 135,
   "id": "94e98a46",
   "metadata": {},
   "outputs": [],
   "source": [
    "from tqdm.notebook import tqdm\n",
    "from selenium import webdriver\n",
    "from selenium.webdriver.common.by import By\n",
    "from selenium.webdriver.common.keys import Keys\n",
    "from webdriver_manager.chrome import ChromeDriverManager \n",
    "from selenium.webdriver.chrome.service import Service\n",
    "import time\n",
    "\n",
    "from selenium.webdriver.common.alert import Alert\n",
    "from selenium.webdriver.support.ui import WebDriverWait\n",
    "from selenium.webdriver.support import expected_conditions as EC"
   ]
  },
  {
   "cell_type": "code",
   "execution_count": 176,
   "id": "d3285686",
   "metadata": {},
   "outputs": [],
   "source": [
    "## 수집해야할 리스트 ##\n",
    "Title = []\n",
    "Release = []\n",
    "Type = []\n",
    "Genre = []\n",
    "Age = []\n",
    "Nation = []\n",
    "Director = []\n",
    "Main_actor = []"
   ]
  },
  {
   "cell_type": "code",
   "execution_count": 141,
   "id": "fc1276b8",
   "metadata": {
    "collapsed": true
   },
   "outputs": [
    {
     "ename": "KeyboardInterrupt",
     "evalue": "",
     "output_type": "error",
     "traceback": [
      "\u001b[1;31m---------------------------------------------------------------------------\u001b[0m",
      "\u001b[1;31mKeyboardInterrupt\u001b[0m                         Traceback (most recent call last)",
      "\u001b[1;32m~\\AppData\\Local\\Temp\\ipykernel_5392\\642727717.py\u001b[0m in \u001b[0;36m<module>\u001b[1;34m\u001b[0m\n\u001b[0;32m     17\u001b[0m         \u001b[0mtitles\u001b[0m \u001b[1;33m=\u001b[0m \u001b[0mdriver\u001b[0m\u001b[1;33m.\u001b[0m\u001b[0mfind_elements\u001b[0m\u001b[1;33m(\u001b[0m\u001b[0mBy\u001b[0m\u001b[1;33m.\u001b[0m\u001b[0mXPATH\u001b[0m\u001b[1;33m,\u001b[0m \u001b[1;34m\"//*[@id='td_movie']/span/a\"\u001b[0m\u001b[1;33m)\u001b[0m\u001b[1;33m\u001b[0m\u001b[1;33m\u001b[0m\u001b[0m\n\u001b[0;32m     18\u001b[0m         \u001b[0mtitles\u001b[0m\u001b[1;33m[\u001b[0m\u001b[0mi\u001b[0m\u001b[1;33m]\u001b[0m\u001b[1;33m.\u001b[0m\u001b[0mclick\u001b[0m\u001b[1;33m(\u001b[0m\u001b[1;33m)\u001b[0m\u001b[1;33m\u001b[0m\u001b[1;33m\u001b[0m\u001b[0m\n\u001b[1;32m---> 19\u001b[1;33m         \u001b[0mtime\u001b[0m\u001b[1;33m.\u001b[0m\u001b[0msleep\u001b[0m\u001b[1;33m(\u001b[0m\u001b[1;36m10\u001b[0m\u001b[1;33m)\u001b[0m\u001b[1;33m\u001b[0m\u001b[1;33m\u001b[0m\u001b[0m\n\u001b[0m\u001b[0;32m     20\u001b[0m \u001b[1;33m\u001b[0m\u001b[0m\n\u001b[0;32m     21\u001b[0m         \u001b[1;31m## 요약정보 중 장르, 관람등급, 국가 수집 ##\u001b[0m\u001b[1;33m\u001b[0m\u001b[1;33m\u001b[0m\u001b[0m\n",
      "\u001b[1;31mKeyboardInterrupt\u001b[0m: "
     ]
    }
   ],
   "source": [
    "driver = webdriver.Chrome(\"chromedriver\")\n",
    "url = \"https://www.kobis.or.kr/kobis/business/stat/boxs/findFormerBoxOfficeList.do\"\n",
    "driver.get(url)\n",
    "time.sleep(10)\n",
    "\n",
    "try:\n",
    "    ## 제목 수집 ##\n",
    "    titles = driver.find_elements(By.ID, \"td_movie\")\n",
    "    Title = [ titles[i].text for i in range(len(titles)) ]\n",
    "    ## 개봉일 수집 ##\n",
    "    Releases = driver.find_elements(By.ID, \"td_openDt\")\n",
    "    Release = [ Releases[i].text for i in range(len(Releases)) ]\n",
    "    \n",
    "    for i in range(len(Title)):\n",
    "\n",
    "        ## 제목 클릭 ##\n",
    "        titles = driver.find_elements(By.XPATH, \"//*[@id='td_movie']/span/a\")\n",
    "        titles[i].click()\n",
    "        time.sleep(10)\n",
    "\n",
    "        ## 요약정보 중 장르, 관람등급, 국가 수집 ##\n",
    "        info = driver.find_elements(By.TAG_NAME, \"dd\")[3].text.replace(\" \", \"\").split(\"|\")\n",
    "        Genre.append(info[2])\n",
    "        Age.append(info[4])\n",
    "        Nation.append(info[5])\n",
    "        \n",
    "        ## 상영 타입 수집 ##\n",
    "        info = driver.find_elements(By.CLASS_NAME, \"cont\")\n",
    "        Type = info[1].find_elements(By.TAG_NAME, \"dd\")[-1]\n",
    "        \n",
    "        ## 감독 수집 ##\n",
    "        code = driver.find_elements(By.TAG_NAME, \"dd\")[0].text\n",
    "        a = driver.find_element(By.XPATH, \"//*[@id='{}_director']\".format(code))\n",
    "        names = a.find_element(By.TAG_NAME, \"dd\").text.split(\"|\")\n",
    "        Director.append(names)\n",
    "        \n",
    "        ## 주연 수집 ##\n",
    "        n = driver.find_elements(By.TAG_NAME, \"table\")[1]\n",
    "        name_list = []\n",
    "        for i in n.find_elements(By.TAG_NAME, \"a\"):\n",
    "            name_list.append(i.text)\n",
    "        Main_actor.append(name_list)\n",
    "        \n",
    "        ## 뒤로가기 ##\n",
    "        driver.find_element(By.CLASS_NAME, \"close\").click()\n",
    "        time.sleep(3)\n",
    "\n",
    "except Exception as e:\n",
    "    print(e)\n",
    "    \n",
    "finally:\n",
    "    driver.close()\n",
    "    driver.quit()"
   ]
  },
  {
   "cell_type": "code",
   "execution_count": 177,
   "id": "2cfc4994",
   "metadata": {
    "collapsed": true
   },
   "outputs": [
    {
     "name": "stdout",
     "output_type": "stream",
     "text": [
      "[]\n",
      "[]\n",
      "[]\n",
      "[]\n",
      "[]\n",
      "[]\n",
      "[]\n"
     ]
    }
   ],
   "source": [
    "print(Title)\n",
    "print(Release)\n",
    "print(Genre)\n",
    "print(Age)\n",
    "print(Nation)\n",
    "print(Director)\n",
    "print(Main_actor)"
   ]
  },
  {
   "cell_type": "markdown",
   "id": "2d4cfb48",
   "metadata": {},
   "source": [
    "-----\n",
    "테스트"
   ]
  },
  {
   "cell_type": "code",
   "execution_count": null,
   "id": "581168ec",
   "metadata": {},
   "outputs": [],
   "source": [
    "웹크롤링 시 로딩을 알아서 기다려주는 web driver  code. \n",
    "# Wait for a specific element to load\n",
    "element_xpath = '//*[@id=\"your_element_id\"]'  \n",
    "# Replace with the XPath of the element you're waiting for\n",
    "try:\n",
    "    element = WebDriverWait(driver, 10).until(\n",
    "        EC.presence_of_element_located((By.XPATH, element_xpath))\n",
    "    )\n",
    "    # Perform your scraping tasks here\n",
    "    print(element.text)"
   ]
  },
  {
   "cell_type": "code",
   "execution_count": 31,
   "id": "6eed3143",
   "metadata": {},
   "outputs": [],
   "source": [
    "driver = webdriver.Chrome(\"chromedriver\")\n",
    "url = \"https://www.kobis.or.kr/kobis/business/stat/boxs/findFormerBoxOfficeList.do\"\n",
    "driver.get(url)"
   ]
  },
  {
   "cell_type": "code",
   "execution_count": 33,
   "id": "40e4ea9f",
   "metadata": {},
   "outputs": [],
   "source": [
    "titles = driver.find_elements(By.XPATH, \"//*[@id='td_movie']/span/a\")\n",
    "titles[2].click()"
   ]
  },
  {
   "cell_type": "code",
   "execution_count": 105,
   "id": "5c79db44",
   "metadata": {},
   "outputs": [],
   "source": [
    "code = driver.find_elements(By.TAG_NAME, \"dd\")[0].text"
   ]
  },
  {
   "cell_type": "code",
   "execution_count": 106,
   "id": "ee8ff90c",
   "metadata": {},
   "outputs": [],
   "source": [
    "a = driver.find_element(By.XPATH, \"//*[@id='{}_director']\".format(code))\n",
    "names = a.find_element(By.TAG_NAME, \"dd\").text.split(\"|\")\n",
    "Director.append(names)"
   ]
  },
  {
   "cell_type": "code",
   "execution_count": 178,
   "id": "c1a43ae8",
   "metadata": {},
   "outputs": [
    {
     "data": {
      "text/plain": [
       "'2D : 디지털(20193450D) ,디지털 영문자막(20193450E)\\n4D : 4D(20193450F)\\nIMAX : IMAX(20193450I)\\nScreenX : ScreenX(201934503)'"
      ]
     },
     "execution_count": 178,
     "metadata": {},
     "output_type": "execute_result"
    }
   ],
   "source": [
    "info = driver.find_elements(By.CLASS_NAME, \"cont\")\n",
    "Type = info[1].find_elements(By.TAG_NAME, \"dd\")[-1]\n",
    "Type.text"
   ]
  }
 ],
 "metadata": {
  "kernelspec": {
   "display_name": "Python 3 (ipykernel)",
   "language": "python",
   "name": "python3"
  },
  "language_info": {
   "codemirror_mode": {
    "name": "ipython",
    "version": 3
   },
   "file_extension": ".py",
   "mimetype": "text/x-python",
   "name": "python",
   "nbconvert_exporter": "python",
   "pygments_lexer": "ipython3",
   "version": "3.9.13"
  }
 },
 "nbformat": 4,
 "nbformat_minor": 5
}
